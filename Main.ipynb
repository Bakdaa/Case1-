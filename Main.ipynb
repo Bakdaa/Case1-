{
 "cells": [
  {
   "cell_type": "code",
   "execution_count": 1,
   "id": "9f13b4e5-11b4-4567-a863-5b893980173c",
   "metadata": {
    "tags": []
   },
   "outputs": [],
   "source": [
    "import pandas as pd\n",
    "from sklearn.feature_extraction.text import TfidfVectorizer\n",
    "from sklearn.metrics.pairwise import cosine_similarity\n",
    "from sklearn.model_selection import train_test_split\n",
    "from sklearn.naive_bayes import MultinomialNB\n",
    "from sklearn.pipeline import make_pipeline\n",
    "from sklearn.preprocessing import LabelEncoder\n",
    "\n",
    "life_situations = pd.read_csv('epir_train/life_situations.csv')\n",
    "articles = pd.read_csv('epir_train/articles.csv')\n",
    "news = pd.read_csv('epir_train/news.csv')\n",
    "services = pd.read_csv('epir_train/services.csv')"
   ]
  },
  {
   "cell_type": "code",
   "execution_count": 2,
   "id": "4f5da73b-b7ad-47ba-9e8e-a149a91e6a49",
   "metadata": {
    "tags": []
   },
   "outputs": [],
   "source": [
    "\n",
    "def combine_text_columns(data):\n",
    "    text_data = data.apply(lambda x: \" \".join(x.astype(str)), axis=1)\n",
    "    return text_data\n",
    "\n",
    "dfs = [\n",
    "    life_situations.assign(label='life_situations'),\n",
    "    articles.assign(label='articles'),\n",
    "    news.assign(label='news'),\n",
    "    services.assign(label='services')\n",
    "]\n",
    "\n",
    "combined_data = pd.concat(dfs, ignore_index=True)\n",
    "\n",
    "\n",
    "combined_text = combine_text_columns(combined_data.drop(['id', 'label', 'url', 'URL'], axis=1, errors='ignore'))\n",
    "\n",
    "\n",
    "vectorizer = TfidfVectorizer()\n",
    "X = vectorizer.fit_transform(combined_text)\n",
    "\n",
    "label_encoder = LabelEncoder()\n",
    "y = label_encoder.fit_transform(combined_data['label'])\n"
   ]
  },
  {
   "cell_type": "code",
   "execution_count": 2,
   "id": "a8053269-8fab-4e7c-8696-bfe04a60c9f6",
   "metadata": {
    "tags": []
   },
   "outputs": [
    {
     "ename": "NameError",
     "evalue": "name 'vectorizer' is not defined",
     "output_type": "error",
     "traceback": [
      "\u001b[1;31m---------------------------------------------------------------------------\u001b[0m",
      "\u001b[1;31mNameError\u001b[0m                                 Traceback (most recent call last)",
      "Cell \u001b[1;32mIn[2], line 34\u001b[0m\n\u001b[0;32m     32\u001b[0m \u001b[38;5;66;03m# Пример обработки запроса\u001b[39;00m\n\u001b[0;32m     33\u001b[0m request_text \u001b[38;5;241m=\u001b[39m \u001b[38;5;124m\"\u001b[39m\u001b[38;5;124mOnline services Egov\u001b[39m\u001b[38;5;124m\"\u001b[39m\n\u001b[1;32m---> 34\u001b[0m url \u001b[38;5;241m=\u001b[39m \u001b[43mhandle_request\u001b[49m\u001b[43m(\u001b[49m\u001b[43mrequest_text\u001b[49m\u001b[43m)\u001b[49m\n",
      "Cell \u001b[1;32mIn[2], line 21\u001b[0m, in \u001b[0;36mhandle_request\u001b[1;34m(request_text)\u001b[0m\n\u001b[0;32m     19\u001b[0m \u001b[38;5;28;01mdef\u001b[39;00m \u001b[38;5;21mhandle_request\u001b[39m(request_text):\n\u001b[0;32m     20\u001b[0m     \u001b[38;5;66;03m# Векторизация запроса\u001b[39;00m\n\u001b[1;32m---> 21\u001b[0m     request_vector \u001b[38;5;241m=\u001b[39m \u001b[43mvectorizer\u001b[49m\u001b[38;5;241m.\u001b[39mtransform([request_text])\n\u001b[0;32m     23\u001b[0m     \u001b[38;5;66;03m# Классификация запроса\u001b[39;00m\n\u001b[0;32m     24\u001b[0m     predicted_label_code \u001b[38;5;241m=\u001b[39m model\u001b[38;5;241m.\u001b[39mpredict(request_vector)[\u001b[38;5;241m0\u001b[39m]\n",
      "\u001b[1;31mNameError\u001b[0m: name 'vectorizer' is not defined"
     ]
    }
   ],
   "source": [
    "def get_most_similar_url(request_vector, data_label, data):\n",
    "\n",
    "    category_data = data[data['label'] == data_label]\n",
    "    \n",
    "\n",
    "    category_text = combine_text_columns(category_data.drop(['id', 'label', 'url', 'URL'], axis=1, errors='ignore'))\n",
    "    category_vectors = vectorizer.transform(category_text)\n",
    "  \n",
    "    similarities = cosine_similarity(request_vector, category_vectors)\n",
    "    \n",
    "    most_similar_idx = similarities.argmax()\n",
    "\n",
    "    return category_data.iloc[most_similar_idx]['url']\n",
    "\n",
    "def handle_request(request_text):\n",
    "\n",
    "    request_vector = vectorizer.transform([request_text])\n",
    "\n",
    "    predicted_label_code = model.predict(request_vector)[0]\n",
    "    predicted_label = label_encoder.classes_[predicted_label_code]\n",
    "    \n",
    "    url = get_most_similar_url(request_vector, predicted_label, combined_data)\n",
    "    \n",
    "    return url\n",
    "\n",
    "request_text = \"Online services Egov\"zz\n",
    "url = handle_request(request_text)\n"
   ]
  },
  {
   "cell_type": "code",
   "execution_count": 3,
   "id": "6a96f9a0-ec2c-4b43-8c98-bbe743514f98",
   "metadata": {
    "tags": []
   },
   "outputs": [
    {
     "ename": "NameError",
     "evalue": "name 'url' is not defined",
     "output_type": "error",
     "traceback": [
      "\u001b[1;31m---------------------------------------------------------------------------\u001b[0m",
      "\u001b[1;31mNameError\u001b[0m                                 Traceback (most recent call last)",
      "Cell \u001b[1;32mIn[3], line 1\u001b[0m\n\u001b[1;32m----> 1\u001b[0m \u001b[43murl\u001b[49m\n",
      "\u001b[1;31mNameError\u001b[0m: name 'url' is not defined"
     ]
    }
   ],
   "source": [
    "url"
   ]
  },
  {
   "cell_type": "code",
   "execution_count": null,
   "id": "23cfc3c7-6abe-4c91-a092-aa557df88980",
   "metadata": {},
   "outputs": [],
   "source": []
  }
 ],
 "metadata": {
  "kernelspec": {
   "display_name": "Python 3 (ipykernel)",
   "language": "python",
   "name": "python3"
  },
  "language_info": {
   "codemirror_mode": {
    "name": "ipython",
    "version": 3
   },
   "file_extension": ".py",
   "mimetype": "text/x-python",
   "name": "python",
   "nbconvert_exporter": "python",
   "pygments_lexer": "ipython3",
   "version": "3.11.5"
  }
 },
 "nbformat": 4,
 "nbformat_minor": 5
}
